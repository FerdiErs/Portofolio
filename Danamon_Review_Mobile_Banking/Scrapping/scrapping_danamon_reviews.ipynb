{
  "nbformat": 4,
  "nbformat_minor": 0,
  "metadata": {
    "colab": {
      "provenance": []
    },
    "kernelspec": {
      "name": "python3",
      "display_name": "Python 3"
    },
    "language_info": {
      "name": "python"
    }
  },
  "cells": [
    {
      "cell_type": "markdown",
      "source": [
        "# Import Library"
      ],
      "metadata": {
        "id": "ZRGY8viQWY-D"
      }
    },
    {
      "cell_type": "code",
      "execution_count": 1,
      "metadata": {
        "colab": {
          "base_uri": "https://localhost:8080/"
        },
        "id": "HfTziNRP1TJb",
        "outputId": "f5f4a1a0-5988-450c-fd3e-3c3e622ba552"
      },
      "outputs": [
        {
          "output_type": "stream",
          "name": "stdout",
          "text": [
            "Collecting google-play-scraper\n",
            "  Downloading google_play_scraper-1.2.4-py3-none-any.whl (28 kB)\n",
            "Installing collected packages: google-play-scraper\n",
            "Successfully installed google-play-scraper-1.2.4\n"
          ]
        }
      ],
      "source": [
        "pip install google-play-scraper"
      ]
    },
    {
      "cell_type": "code",
      "source": [
        "from google_play_scraper import app,Sort, reviews_all\n",
        "import pandas as pd\n",
        "import numpy as np"
      ],
      "metadata": {
        "id": "w_W0y3i11kD9"
      },
      "execution_count": 2,
      "outputs": []
    },
    {
      "cell_type": "markdown",
      "source": [
        "# Scrapping Reviews D-Bank Pro from Google Play"
      ],
      "metadata": {
        "id": "nz1P9_j72m8k"
      }
    },
    {
      "cell_type": "markdown",
      "source": [
        "were scrape the data from [here](https://play.google.com/store/apps/details?id=com.dbank.mobile&hl=en-ID)"
      ],
      "metadata": {
        "id": "MfmM-SQjY3Bq"
      }
    },
    {
      "cell_type": "code",
      "source": [
        "danamon_reviews = reviews_all(\n",
        "                              'com.dbank.mobile',\n",
        "                              sleep_milliseconds=0, # defaults to 0\n",
        "                              lang='id', # defaults to 'en'\n",
        "                              country='ID', # defaults to 'us'\n",
        "                              sort=Sort.NEWEST, # defaults to Sort.MOST_RELEVANT\n",
        "                          )"
      ],
      "metadata": {
        "id": "aG8cb6031mJ3"
      },
      "execution_count": 3,
      "outputs": []
    },
    {
      "cell_type": "code",
      "source": [
        "df_danamon = pd.DataFrame(np.array(danamon_reviews),columns=['review'])\n",
        "\n",
        "\n",
        "df_danamon = df_danamon.join(pd.DataFrame(df_danamon.pop('review').tolist()))\n",
        "\n",
        "\n",
        "\n",
        "df_danamon.head()"
      ],
      "metadata": {
        "colab": {
          "base_uri": "https://localhost:8080/",
          "height": 337
        },
        "id": "7m5c84Es15ZQ",
        "outputId": "7570da4d-f891-4dfb-c36b-928a38abf2b5"
      },
      "execution_count": 4,
      "outputs": [
        {
          "output_type": "execute_result",
          "data": {
            "text/plain": [
              "                               reviewId                userName  \\\n",
              "0  9387accd-b963-4777-9fb9-a63d2acf6127             Lanang Dauh   \n",
              "1  9fe3fbae-b857-40b4-83de-e0ae3dbcf51e        Syahrul borahima   \n",
              "2  fafe9f94-98d6-4c3f-9126-c02e7b54c52a  Muhammad faisal Rahman   \n",
              "3  6d5f8e5c-29d2-4b9a-88d1-3728386a318c              Rifai Nike   \n",
              "4  6aab0fbc-10da-48e4-8c5e-5bb82e4969af                 Akun ML   \n",
              "\n",
              "                                           userImage  \\\n",
              "0  https://play-lh.googleusercontent.com/a/AAcHTt...   \n",
              "1  https://play-lh.googleusercontent.com/a-/AD_cM...   \n",
              "2  https://play-lh.googleusercontent.com/a/AAcHTt...   \n",
              "3  https://play-lh.googleusercontent.com/a-/AD_cM...   \n",
              "4  https://play-lh.googleusercontent.com/a/AAcHTt...   \n",
              "\n",
              "                                             content  score  thumbsUpCount  \\\n",
              "0  Bagus bisa membantu masyarakat , khususnya ttg...      5              0   \n",
              "1                                    Sangat membantu      5              0   \n",
              "2  Ini gimana sih? Kwkwkwk, udah daftar dan udah ...      3              0   \n",
              "3                                                 Ok      5              0   \n",
              "4  Knpa y kemaren ada potongan lagi dari prima Ba...      1              0   \n",
              "\n",
              "  reviewCreatedVersion                  at  \\\n",
              "0                1.4.1 2023-08-08 23:55:24   \n",
              "1                1.4.1 2023-08-08 11:59:36   \n",
              "2                1.4.1 2023-08-08 10:00:32   \n",
              "3                1.4.1 2023-08-07 20:33:33   \n",
              "4                 None 2023-08-07 16:48:18   \n",
              "\n",
              "                                        replyContent           repliedAt  \\\n",
              "0  Hello Bapak/Ibu, terima kasih atas ulasannya. ... 2023-08-09 12:58:03   \n",
              "1  Hello Bapak/Ibu, terima kasih atas ulasannya. ... 2023-08-08 13:16:36   \n",
              "2  Hello Bapak/Ibu, maaf atas ketidaknyamanannya.... 2023-08-08 13:17:40   \n",
              "3  Hello Bapak/Ibu, terima kasih atas ulasannya. ... 2023-08-08 13:16:57   \n",
              "4  Hello Bapak/Ibu, maaf atas ketidaknyamanannya.... 2023-08-08 13:19:10   \n",
              "\n",
              "  appVersion  \n",
              "0      1.4.1  \n",
              "1      1.4.1  \n",
              "2      1.4.1  \n",
              "3      1.4.1  \n",
              "4       None  "
            ],
            "text/html": [
              "\n",
              "\n",
              "  <div id=\"df-b5c054cc-8379-44e5-b5d6-d7c472d05e5f\">\n",
              "    <div class=\"colab-df-container\">\n",
              "      <div>\n",
              "<style scoped>\n",
              "    .dataframe tbody tr th:only-of-type {\n",
              "        vertical-align: middle;\n",
              "    }\n",
              "\n",
              "    .dataframe tbody tr th {\n",
              "        vertical-align: top;\n",
              "    }\n",
              "\n",
              "    .dataframe thead th {\n",
              "        text-align: right;\n",
              "    }\n",
              "</style>\n",
              "<table border=\"1\" class=\"dataframe\">\n",
              "  <thead>\n",
              "    <tr style=\"text-align: right;\">\n",
              "      <th></th>\n",
              "      <th>reviewId</th>\n",
              "      <th>userName</th>\n",
              "      <th>userImage</th>\n",
              "      <th>content</th>\n",
              "      <th>score</th>\n",
              "      <th>thumbsUpCount</th>\n",
              "      <th>reviewCreatedVersion</th>\n",
              "      <th>at</th>\n",
              "      <th>replyContent</th>\n",
              "      <th>repliedAt</th>\n",
              "      <th>appVersion</th>\n",
              "    </tr>\n",
              "  </thead>\n",
              "  <tbody>\n",
              "    <tr>\n",
              "      <th>0</th>\n",
              "      <td>9387accd-b963-4777-9fb9-a63d2acf6127</td>\n",
              "      <td>Lanang Dauh</td>\n",
              "      <td>https://play-lh.googleusercontent.com/a/AAcHTt...</td>\n",
              "      <td>Bagus bisa membantu masyarakat , khususnya ttg...</td>\n",
              "      <td>5</td>\n",
              "      <td>0</td>\n",
              "      <td>1.4.1</td>\n",
              "      <td>2023-08-08 23:55:24</td>\n",
              "      <td>Hello Bapak/Ibu, terima kasih atas ulasannya. ...</td>\n",
              "      <td>2023-08-09 12:58:03</td>\n",
              "      <td>1.4.1</td>\n",
              "    </tr>\n",
              "    <tr>\n",
              "      <th>1</th>\n",
              "      <td>9fe3fbae-b857-40b4-83de-e0ae3dbcf51e</td>\n",
              "      <td>Syahrul borahima</td>\n",
              "      <td>https://play-lh.googleusercontent.com/a-/AD_cM...</td>\n",
              "      <td>Sangat membantu</td>\n",
              "      <td>5</td>\n",
              "      <td>0</td>\n",
              "      <td>1.4.1</td>\n",
              "      <td>2023-08-08 11:59:36</td>\n",
              "      <td>Hello Bapak/Ibu, terima kasih atas ulasannya. ...</td>\n",
              "      <td>2023-08-08 13:16:36</td>\n",
              "      <td>1.4.1</td>\n",
              "    </tr>\n",
              "    <tr>\n",
              "      <th>2</th>\n",
              "      <td>fafe9f94-98d6-4c3f-9126-c02e7b54c52a</td>\n",
              "      <td>Muhammad faisal Rahman</td>\n",
              "      <td>https://play-lh.googleusercontent.com/a/AAcHTt...</td>\n",
              "      <td>Ini gimana sih? Kwkwkwk, udah daftar dan udah ...</td>\n",
              "      <td>3</td>\n",
              "      <td>0</td>\n",
              "      <td>1.4.1</td>\n",
              "      <td>2023-08-08 10:00:32</td>\n",
              "      <td>Hello Bapak/Ibu, maaf atas ketidaknyamanannya....</td>\n",
              "      <td>2023-08-08 13:17:40</td>\n",
              "      <td>1.4.1</td>\n",
              "    </tr>\n",
              "    <tr>\n",
              "      <th>3</th>\n",
              "      <td>6d5f8e5c-29d2-4b9a-88d1-3728386a318c</td>\n",
              "      <td>Rifai Nike</td>\n",
              "      <td>https://play-lh.googleusercontent.com/a-/AD_cM...</td>\n",
              "      <td>Ok</td>\n",
              "      <td>5</td>\n",
              "      <td>0</td>\n",
              "      <td>1.4.1</td>\n",
              "      <td>2023-08-07 20:33:33</td>\n",
              "      <td>Hello Bapak/Ibu, terima kasih atas ulasannya. ...</td>\n",
              "      <td>2023-08-08 13:16:57</td>\n",
              "      <td>1.4.1</td>\n",
              "    </tr>\n",
              "    <tr>\n",
              "      <th>4</th>\n",
              "      <td>6aab0fbc-10da-48e4-8c5e-5bb82e4969af</td>\n",
              "      <td>Akun ML</td>\n",
              "      <td>https://play-lh.googleusercontent.com/a/AAcHTt...</td>\n",
              "      <td>Knpa y kemaren ada potongan lagi dari prima Ba...</td>\n",
              "      <td>1</td>\n",
              "      <td>0</td>\n",
              "      <td>None</td>\n",
              "      <td>2023-08-07 16:48:18</td>\n",
              "      <td>Hello Bapak/Ibu, maaf atas ketidaknyamanannya....</td>\n",
              "      <td>2023-08-08 13:19:10</td>\n",
              "      <td>None</td>\n",
              "    </tr>\n",
              "  </tbody>\n",
              "</table>\n",
              "</div>\n",
              "      <button class=\"colab-df-convert\" onclick=\"convertToInteractive('df-b5c054cc-8379-44e5-b5d6-d7c472d05e5f')\"\n",
              "              title=\"Convert this dataframe to an interactive table.\"\n",
              "              style=\"display:none;\">\n",
              "\n",
              "  <svg xmlns=\"http://www.w3.org/2000/svg\" height=\"24px\"viewBox=\"0 0 24 24\"\n",
              "       width=\"24px\">\n",
              "    <path d=\"M0 0h24v24H0V0z\" fill=\"none\"/>\n",
              "    <path d=\"M18.56 5.44l.94 2.06.94-2.06 2.06-.94-2.06-.94-.94-2.06-.94 2.06-2.06.94zm-11 1L8.5 8.5l.94-2.06 2.06-.94-2.06-.94L8.5 2.5l-.94 2.06-2.06.94zm10 10l.94 2.06.94-2.06 2.06-.94-2.06-.94-.94-2.06-.94 2.06-2.06.94z\"/><path d=\"M17.41 7.96l-1.37-1.37c-.4-.4-.92-.59-1.43-.59-.52 0-1.04.2-1.43.59L10.3 9.45l-7.72 7.72c-.78.78-.78 2.05 0 2.83L4 21.41c.39.39.9.59 1.41.59.51 0 1.02-.2 1.41-.59l7.78-7.78 2.81-2.81c.8-.78.8-2.07 0-2.86zM5.41 20L4 18.59l7.72-7.72 1.47 1.35L5.41 20z\"/>\n",
              "  </svg>\n",
              "      </button>\n",
              "\n",
              "\n",
              "\n",
              "    <div id=\"df-79dc6f02-da1b-43f7-988c-81946cbd0df8\">\n",
              "      <button class=\"colab-df-quickchart\" onclick=\"quickchart('df-79dc6f02-da1b-43f7-988c-81946cbd0df8')\"\n",
              "              title=\"Suggest charts.\"\n",
              "              style=\"display:none;\">\n",
              "\n",
              "<svg xmlns=\"http://www.w3.org/2000/svg\" height=\"24px\"viewBox=\"0 0 24 24\"\n",
              "     width=\"24px\">\n",
              "    <g>\n",
              "        <path d=\"M19 3H5c-1.1 0-2 .9-2 2v14c0 1.1.9 2 2 2h14c1.1 0 2-.9 2-2V5c0-1.1-.9-2-2-2zM9 17H7v-7h2v7zm4 0h-2V7h2v10zm4 0h-2v-4h2v4z\"/>\n",
              "    </g>\n",
              "</svg>\n",
              "      </button>\n",
              "    </div>\n",
              "\n",
              "<style>\n",
              "  .colab-df-quickchart {\n",
              "    background-color: #E8F0FE;\n",
              "    border: none;\n",
              "    border-radius: 50%;\n",
              "    cursor: pointer;\n",
              "    display: none;\n",
              "    fill: #1967D2;\n",
              "    height: 32px;\n",
              "    padding: 0 0 0 0;\n",
              "    width: 32px;\n",
              "  }\n",
              "\n",
              "  .colab-df-quickchart:hover {\n",
              "    background-color: #E2EBFA;\n",
              "    box-shadow: 0px 1px 2px rgba(60, 64, 67, 0.3), 0px 1px 3px 1px rgba(60, 64, 67, 0.15);\n",
              "    fill: #174EA6;\n",
              "  }\n",
              "\n",
              "  [theme=dark] .colab-df-quickchart {\n",
              "    background-color: #3B4455;\n",
              "    fill: #D2E3FC;\n",
              "  }\n",
              "\n",
              "  [theme=dark] .colab-df-quickchart:hover {\n",
              "    background-color: #434B5C;\n",
              "    box-shadow: 0px 1px 3px 1px rgba(0, 0, 0, 0.15);\n",
              "    filter: drop-shadow(0px 1px 2px rgba(0, 0, 0, 0.3));\n",
              "    fill: #FFFFFF;\n",
              "  }\n",
              "</style>\n",
              "\n",
              "    <script>\n",
              "      async function quickchart(key) {\n",
              "        const containerElement = document.querySelector('#' + key);\n",
              "        const charts = await google.colab.kernel.invokeFunction(\n",
              "            'suggestCharts', [key], {});\n",
              "      }\n",
              "    </script>\n",
              "\n",
              "      <script>\n",
              "\n",
              "function displayQuickchartButton(domScope) {\n",
              "  let quickchartButtonEl =\n",
              "    domScope.querySelector('#df-79dc6f02-da1b-43f7-988c-81946cbd0df8 button.colab-df-quickchart');\n",
              "  quickchartButtonEl.style.display =\n",
              "    google.colab.kernel.accessAllowed ? 'block' : 'none';\n",
              "}\n",
              "\n",
              "        displayQuickchartButton(document);\n",
              "      </script>\n",
              "      <style>\n",
              "    .colab-df-container {\n",
              "      display:flex;\n",
              "      flex-wrap:wrap;\n",
              "      gap: 12px;\n",
              "    }\n",
              "\n",
              "    .colab-df-convert {\n",
              "      background-color: #E8F0FE;\n",
              "      border: none;\n",
              "      border-radius: 50%;\n",
              "      cursor: pointer;\n",
              "      display: none;\n",
              "      fill: #1967D2;\n",
              "      height: 32px;\n",
              "      padding: 0 0 0 0;\n",
              "      width: 32px;\n",
              "    }\n",
              "\n",
              "    .colab-df-convert:hover {\n",
              "      background-color: #E2EBFA;\n",
              "      box-shadow: 0px 1px 2px rgba(60, 64, 67, 0.3), 0px 1px 3px 1px rgba(60, 64, 67, 0.15);\n",
              "      fill: #174EA6;\n",
              "    }\n",
              "\n",
              "    [theme=dark] .colab-df-convert {\n",
              "      background-color: #3B4455;\n",
              "      fill: #D2E3FC;\n",
              "    }\n",
              "\n",
              "    [theme=dark] .colab-df-convert:hover {\n",
              "      background-color: #434B5C;\n",
              "      box-shadow: 0px 1px 3px 1px rgba(0, 0, 0, 0.15);\n",
              "      filter: drop-shadow(0px 1px 2px rgba(0, 0, 0, 0.3));\n",
              "      fill: #FFFFFF;\n",
              "    }\n",
              "  </style>\n",
              "\n",
              "      <script>\n",
              "        const buttonEl =\n",
              "          document.querySelector('#df-b5c054cc-8379-44e5-b5d6-d7c472d05e5f button.colab-df-convert');\n",
              "        buttonEl.style.display =\n",
              "          google.colab.kernel.accessAllowed ? 'block' : 'none';\n",
              "\n",
              "        async function convertToInteractive(key) {\n",
              "          const element = document.querySelector('#df-b5c054cc-8379-44e5-b5d6-d7c472d05e5f');\n",
              "          const dataTable =\n",
              "            await google.colab.kernel.invokeFunction('convertToInteractive',\n",
              "                                                     [key], {});\n",
              "          if (!dataTable) return;\n",
              "\n",
              "          const docLinkHtml = 'Like what you see? Visit the ' +\n",
              "            '<a target=\"_blank\" href=https://colab.research.google.com/notebooks/data_table.ipynb>data table notebook</a>'\n",
              "            + ' to learn more about interactive tables.';\n",
              "          element.innerHTML = '';\n",
              "          dataTable['output_type'] = 'display_data';\n",
              "          await google.colab.output.renderOutput(dataTable, element);\n",
              "          const docLink = document.createElement('div');\n",
              "          docLink.innerHTML = docLinkHtml;\n",
              "          element.appendChild(docLink);\n",
              "        }\n",
              "      </script>\n",
              "    </div>\n",
              "  </div>\n"
            ]
          },
          "metadata": {},
          "execution_count": 4
        }
      ]
    },
    {
      "cell_type": "code",
      "source": [
        "df_danamon.shape"
      ],
      "metadata": {
        "colab": {
          "base_uri": "https://localhost:8080/"
        },
        "id": "tPCwWWX_2QJU",
        "outputId": "9059ce9b-eb44-4c4f-c124-cf8a62e13e1f"
      },
      "execution_count": 5,
      "outputs": [
        {
          "output_type": "execute_result",
          "data": {
            "text/plain": [
              "(6653, 11)"
            ]
          },
          "metadata": {},
          "execution_count": 5
        }
      ]
    },
    {
      "cell_type": "code",
      "source": [
        "df_danamon['score'].mean()"
      ],
      "metadata": {
        "colab": {
          "base_uri": "https://localhost:8080/"
        },
        "id": "r7GXqXBD2bhs",
        "outputId": "e3ae64df-6afb-4620-f68c-e32bc5599bc4"
      },
      "execution_count": 6,
      "outputs": [
        {
          "output_type": "execute_result",
          "data": {
            "text/plain": [
              "3.040883811814219"
            ]
          },
          "metadata": {},
          "execution_count": 6
        }
      ]
    },
    {
      "cell_type": "code",
      "source": [
        "df_danamon.to_csv('Danamon Mobile Banking Reviews(D-Bank Pro).csv')"
      ],
      "metadata": {
        "id": "orGdcPig41vb"
      },
      "execution_count": 7,
      "outputs": []
    }
  ]
}